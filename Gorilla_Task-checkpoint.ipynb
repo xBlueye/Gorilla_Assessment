{
 "cells": [
  {
   "cell_type": "markdown",
   "id": "d2df20cb",
   "metadata": {},
   "source": []
  },
  {
   "cell_type": "code",
   "execution_count": 1,
   "id": "3f62b18b",
   "metadata": {},
   "outputs": [
    {
     "name": "stdout",
     "output_type": "stream",
     "text": [
      "Requirement already satisfied: pandas in c:\\users\\akapi\\anaconda3\\lib\\site-packages (1.3.4)\n",
      "Requirement already satisfied: pytz>=2017.3 in c:\\users\\akapi\\anaconda3\\lib\\site-packages (from pandas) (2021.3)\n",
      "Requirement already satisfied: numpy>=1.17.3 in c:\\users\\akapi\\anaconda3\\lib\\site-packages (from pandas) (1.20.3)\n",
      "Requirement already satisfied: python-dateutil>=2.7.3 in c:\\users\\akapi\\anaconda3\\lib\\site-packages (from pandas) (2.8.2)\n",
      "Requirement already satisfied: six>=1.5 in c:\\users\\akapi\\anaconda3\\lib\\site-packages (from python-dateutil>=2.7.3->pandas) (1.16.0)\n",
      "Requirement already satisfied: numpy in c:\\users\\akapi\\anaconda3\\lib\\site-packages (1.20.3)\n"
     ]
    }
   ],
   "source": [
    "! pip install pandas\n",
    "! pip install numpy"
   ]
  },
  {
   "cell_type": "code",
   "execution_count": null,
   "id": "edc4053d",
   "metadata": {},
   "outputs": [],
   "source": []
  },
  {
   "cell_type": "code",
   "execution_count": 2,
   "id": "63647dc6",
   "metadata": {},
   "outputs": [],
   "source": [
    "import pandas as pd\n",
    "import numpy as np\n",
    "import random\n",
    "import datetime\n",
    "import time"
   ]
  },
  {
   "cell_type": "code",
   "execution_count": null,
   "id": "aef20a88",
   "metadata": {},
   "outputs": [],
   "source": []
  },
  {
   "cell_type": "code",
   "execution_count": 7,
   "id": "a4cfbe00",
   "metadata": {},
   "outputs": [
    {
     "name": "stdout",
     "output_type": "stream",
     "text": [
      "C:\\Users\\akapi\\Gorilla.ipynb\n"
     ]
    },
    {
     "ename": "FileNotFoundError",
     "evalue": "[Errno 2] No such file or directory: '.\\\\gorilla_test_data.xlsx'",
     "output_type": "error",
     "traceback": [
      "\u001b[1;31m---------------------------------------------------------------------------\u001b[0m",
      "\u001b[1;31mFileNotFoundError\u001b[0m                         Traceback (most recent call last)",
      "\u001b[1;32mD:\\TEMP/ipykernel_2256/291484647.py\u001b[0m in \u001b[0;36m<module>\u001b[1;34m\u001b[0m\n\u001b[0;32m      3\u001b[0m \u001b[0mprint\u001b[0m\u001b[1;33m(\u001b[0m\u001b[0mos\u001b[0m\u001b[1;33m.\u001b[0m\u001b[0mpath\u001b[0m\u001b[1;33m.\u001b[0m\u001b[0mabspath\u001b[0m\u001b[1;33m(\u001b[0m\u001b[1;34m\"Gorilla.ipynb\"\u001b[0m\u001b[1;33m)\u001b[0m\u001b[1;33m)\u001b[0m\u001b[1;33m\u001b[0m\u001b[1;33m\u001b[0m\u001b[0m\n\u001b[0;32m      4\u001b[0m \u001b[1;33m\u001b[0m\u001b[0m\n\u001b[1;32m----> 5\u001b[1;33m \u001b[0mmeter_list\u001b[0m \u001b[1;33m=\u001b[0m \u001b[0mpd\u001b[0m\u001b[1;33m.\u001b[0m\u001b[0mread_excel\u001b[0m\u001b[1;33m(\u001b[0m\u001b[1;34m'.\\\\gorilla_test_data.xlsx'\u001b[0m\u001b[1;33m,\u001b[0m\u001b[0msheet_name\u001b[0m\u001b[1;33m=\u001b[0m\u001b[1;34m'meter_list'\u001b[0m\u001b[1;33m)\u001b[0m\u001b[1;33m\u001b[0m\u001b[1;33m\u001b[0m\u001b[0m\n\u001b[0m\u001b[0;32m      6\u001b[0m \u001b[0mforecast_table\u001b[0m \u001b[1;33m=\u001b[0m \u001b[0mpd\u001b[0m\u001b[1;33m.\u001b[0m\u001b[0mread_excel\u001b[0m\u001b[1;33m(\u001b[0m\u001b[1;34m'.\\\\gorilla_test_data.xlsx'\u001b[0m\u001b[1;33m,\u001b[0m\u001b[0msheet_name\u001b[0m\u001b[1;33m=\u001b[0m\u001b[1;34m'forecast_table'\u001b[0m\u001b[1;33m)\u001b[0m\u001b[1;33m\u001b[0m\u001b[1;33m\u001b[0m\u001b[0m\n\u001b[0;32m      7\u001b[0m \u001b[0mrate_table\u001b[0m \u001b[1;33m=\u001b[0m \u001b[0mpd\u001b[0m\u001b[1;33m.\u001b[0m\u001b[0mread_excel\u001b[0m\u001b[1;33m(\u001b[0m\u001b[1;34m'.\\\\gorilla_test_data.xlsx'\u001b[0m\u001b[1;33m,\u001b[0m\u001b[0msheet_name\u001b[0m\u001b[1;33m=\u001b[0m\u001b[1;34m'rate_table'\u001b[0m\u001b[1;33m)\u001b[0m\u001b[1;33m\u001b[0m\u001b[1;33m\u001b[0m\u001b[0m\n",
      "\u001b[1;32m~\\anaconda3\\lib\\site-packages\\pandas\\util\\_decorators.py\u001b[0m in \u001b[0;36mwrapper\u001b[1;34m(*args, **kwargs)\u001b[0m\n\u001b[0;32m    309\u001b[0m                     \u001b[0mstacklevel\u001b[0m\u001b[1;33m=\u001b[0m\u001b[0mstacklevel\u001b[0m\u001b[1;33m,\u001b[0m\u001b[1;33m\u001b[0m\u001b[1;33m\u001b[0m\u001b[0m\n\u001b[0;32m    310\u001b[0m                 )\n\u001b[1;32m--> 311\u001b[1;33m             \u001b[1;32mreturn\u001b[0m \u001b[0mfunc\u001b[0m\u001b[1;33m(\u001b[0m\u001b[1;33m*\u001b[0m\u001b[0margs\u001b[0m\u001b[1;33m,\u001b[0m \u001b[1;33m**\u001b[0m\u001b[0mkwargs\u001b[0m\u001b[1;33m)\u001b[0m\u001b[1;33m\u001b[0m\u001b[1;33m\u001b[0m\u001b[0m\n\u001b[0m\u001b[0;32m    312\u001b[0m \u001b[1;33m\u001b[0m\u001b[0m\n\u001b[0;32m    313\u001b[0m         \u001b[1;32mreturn\u001b[0m \u001b[0mwrapper\u001b[0m\u001b[1;33m\u001b[0m\u001b[1;33m\u001b[0m\u001b[0m\n",
      "\u001b[1;32m~\\anaconda3\\lib\\site-packages\\pandas\\io\\excel\\_base.py\u001b[0m in \u001b[0;36mread_excel\u001b[1;34m(io, sheet_name, header, names, index_col, usecols, squeeze, dtype, engine, converters, true_values, false_values, skiprows, nrows, na_values, keep_default_na, na_filter, verbose, parse_dates, date_parser, thousands, comment, skipfooter, convert_float, mangle_dupe_cols, storage_options)\u001b[0m\n\u001b[0;32m    362\u001b[0m     \u001b[1;32mif\u001b[0m \u001b[1;32mnot\u001b[0m \u001b[0misinstance\u001b[0m\u001b[1;33m(\u001b[0m\u001b[0mio\u001b[0m\u001b[1;33m,\u001b[0m \u001b[0mExcelFile\u001b[0m\u001b[1;33m)\u001b[0m\u001b[1;33m:\u001b[0m\u001b[1;33m\u001b[0m\u001b[1;33m\u001b[0m\u001b[0m\n\u001b[0;32m    363\u001b[0m         \u001b[0mshould_close\u001b[0m \u001b[1;33m=\u001b[0m \u001b[1;32mTrue\u001b[0m\u001b[1;33m\u001b[0m\u001b[1;33m\u001b[0m\u001b[0m\n\u001b[1;32m--> 364\u001b[1;33m         \u001b[0mio\u001b[0m \u001b[1;33m=\u001b[0m \u001b[0mExcelFile\u001b[0m\u001b[1;33m(\u001b[0m\u001b[0mio\u001b[0m\u001b[1;33m,\u001b[0m \u001b[0mstorage_options\u001b[0m\u001b[1;33m=\u001b[0m\u001b[0mstorage_options\u001b[0m\u001b[1;33m,\u001b[0m \u001b[0mengine\u001b[0m\u001b[1;33m=\u001b[0m\u001b[0mengine\u001b[0m\u001b[1;33m)\u001b[0m\u001b[1;33m\u001b[0m\u001b[1;33m\u001b[0m\u001b[0m\n\u001b[0m\u001b[0;32m    365\u001b[0m     \u001b[1;32melif\u001b[0m \u001b[0mengine\u001b[0m \u001b[1;32mand\u001b[0m \u001b[0mengine\u001b[0m \u001b[1;33m!=\u001b[0m \u001b[0mio\u001b[0m\u001b[1;33m.\u001b[0m\u001b[0mengine\u001b[0m\u001b[1;33m:\u001b[0m\u001b[1;33m\u001b[0m\u001b[1;33m\u001b[0m\u001b[0m\n\u001b[0;32m    366\u001b[0m         raise ValueError(\n",
      "\u001b[1;32m~\\anaconda3\\lib\\site-packages\\pandas\\io\\excel\\_base.py\u001b[0m in \u001b[0;36m__init__\u001b[1;34m(self, path_or_buffer, engine, storage_options)\u001b[0m\n\u001b[0;32m   1189\u001b[0m                 \u001b[0mext\u001b[0m \u001b[1;33m=\u001b[0m \u001b[1;34m\"xls\"\u001b[0m\u001b[1;33m\u001b[0m\u001b[1;33m\u001b[0m\u001b[0m\n\u001b[0;32m   1190\u001b[0m             \u001b[1;32melse\u001b[0m\u001b[1;33m:\u001b[0m\u001b[1;33m\u001b[0m\u001b[1;33m\u001b[0m\u001b[0m\n\u001b[1;32m-> 1191\u001b[1;33m                 ext = inspect_excel_format(\n\u001b[0m\u001b[0;32m   1192\u001b[0m                     \u001b[0mcontent_or_path\u001b[0m\u001b[1;33m=\u001b[0m\u001b[0mpath_or_buffer\u001b[0m\u001b[1;33m,\u001b[0m \u001b[0mstorage_options\u001b[0m\u001b[1;33m=\u001b[0m\u001b[0mstorage_options\u001b[0m\u001b[1;33m\u001b[0m\u001b[1;33m\u001b[0m\u001b[0m\n\u001b[0;32m   1193\u001b[0m                 )\n",
      "\u001b[1;32m~\\anaconda3\\lib\\site-packages\\pandas\\io\\excel\\_base.py\u001b[0m in \u001b[0;36minspect_excel_format\u001b[1;34m(content_or_path, storage_options)\u001b[0m\n\u001b[0;32m   1068\u001b[0m         \u001b[0mcontent_or_path\u001b[0m \u001b[1;33m=\u001b[0m \u001b[0mBytesIO\u001b[0m\u001b[1;33m(\u001b[0m\u001b[0mcontent_or_path\u001b[0m\u001b[1;33m)\u001b[0m\u001b[1;33m\u001b[0m\u001b[1;33m\u001b[0m\u001b[0m\n\u001b[0;32m   1069\u001b[0m \u001b[1;33m\u001b[0m\u001b[0m\n\u001b[1;32m-> 1070\u001b[1;33m     with get_handle(\n\u001b[0m\u001b[0;32m   1071\u001b[0m         \u001b[0mcontent_or_path\u001b[0m\u001b[1;33m,\u001b[0m \u001b[1;34m\"rb\"\u001b[0m\u001b[1;33m,\u001b[0m \u001b[0mstorage_options\u001b[0m\u001b[1;33m=\u001b[0m\u001b[0mstorage_options\u001b[0m\u001b[1;33m,\u001b[0m \u001b[0mis_text\u001b[0m\u001b[1;33m=\u001b[0m\u001b[1;32mFalse\u001b[0m\u001b[1;33m\u001b[0m\u001b[1;33m\u001b[0m\u001b[0m\n\u001b[0;32m   1072\u001b[0m     ) as handle:\n",
      "\u001b[1;32m~\\anaconda3\\lib\\site-packages\\pandas\\io\\common.py\u001b[0m in \u001b[0;36mget_handle\u001b[1;34m(path_or_buf, mode, encoding, compression, memory_map, is_text, errors, storage_options)\u001b[0m\n\u001b[0;32m    709\u001b[0m         \u001b[1;32melse\u001b[0m\u001b[1;33m:\u001b[0m\u001b[1;33m\u001b[0m\u001b[1;33m\u001b[0m\u001b[0m\n\u001b[0;32m    710\u001b[0m             \u001b[1;31m# Binary mode\u001b[0m\u001b[1;33m\u001b[0m\u001b[1;33m\u001b[0m\u001b[0m\n\u001b[1;32m--> 711\u001b[1;33m             \u001b[0mhandle\u001b[0m \u001b[1;33m=\u001b[0m \u001b[0mopen\u001b[0m\u001b[1;33m(\u001b[0m\u001b[0mhandle\u001b[0m\u001b[1;33m,\u001b[0m \u001b[0mioargs\u001b[0m\u001b[1;33m.\u001b[0m\u001b[0mmode\u001b[0m\u001b[1;33m)\u001b[0m\u001b[1;33m\u001b[0m\u001b[1;33m\u001b[0m\u001b[0m\n\u001b[0m\u001b[0;32m    712\u001b[0m         \u001b[0mhandles\u001b[0m\u001b[1;33m.\u001b[0m\u001b[0mappend\u001b[0m\u001b[1;33m(\u001b[0m\u001b[0mhandle\u001b[0m\u001b[1;33m)\u001b[0m\u001b[1;33m\u001b[0m\u001b[1;33m\u001b[0m\u001b[0m\n\u001b[0;32m    713\u001b[0m \u001b[1;33m\u001b[0m\u001b[0m\n",
      "\u001b[1;31mFileNotFoundError\u001b[0m: [Errno 2] No such file or directory: '.\\\\gorilla_test_data.xlsx'"
     ]
    }
   ],
   "source": [
    "# Load the datasheets\n",
    "import os\n",
    "print(os.path.abspath(\"Gorilla.ipynb\"))\n",
    "\n",
    "meter_list = pd.read_excel('.\\\\gorilla_test_data.xlsx',sheet_name='meter_list')\n",
    "forecast_table = pd.read_excel('.\\\\gorilla_test_data.xlsx',sheet_name='forecast_table')\n",
    "rate_table = pd.read_excel('.\\\\gorilla_test_data.xlsx',sheet_name='rate_table')"
   ]
  },
  {
   "cell_type": "code",
   "execution_count": null,
   "id": "a032da3f",
   "metadata": {},
   "outputs": [],
   "source": []
  },
  {
   "cell_type": "code",
   "execution_count": null,
   "id": "667fa4ac",
   "metadata": {},
   "outputs": [],
   "source": [
    "# 1)\n",
    "# Function for the Total Estimated Consumption and Total Cost\n",
    "def calc_cost(meter_input,forecast_input):\n",
    "    \n",
    "    meter_id = meter_input['meter_id']\n",
    "    aq_kwh = meter_input['aq_kwh']\n",
    "    exit_zone = meter_input['exit_zone']\n",
    "    # Variable initialization\n",
    "    TEC = 0\n",
    "    TC = 0\n",
    "    forecast_filter = pd.DataFrame()\n",
    "    rate_filter = pd.DataFrame()\n",
    "    \n",
    "    # Choose the right AQ band\n",
    "    if aq_kwh < 73200:\n",
    "        rate_filter = rate_filter.append(rate_table[(rate_table['aq_min_kwh'] == 0) & (rate_table['exit_zone'] == exit_zone)])\n",
    "    elif aq_kwh < 732000:\n",
    "        rate_filter = rate_filter.append(rate_table[(rate_table['aq_min_kwh'] == 73200) & (rate_table['exit_zone'] == exit_zone)])\n",
    "    else:\n",
    "        rate_filter = rate_filter.append(rate_table[(rate_table['aq_min_kwh'] == 732000) & (rate_table['exit_zone'] == exit_zone)])\n",
    "        \n",
    "    # We only need 1 meter ID so there is no need to check the other ones    \n",
    "    forecast_filter = forecast_filter.append(forecast_input[(forecast_input['meter_id'] == meter_id)])\n",
    "    \n",
    "    #print(forecast_filter) \n",
    "    #print(rate_filter) \n",
    "    \n",
    "    # A step variable used to pick the right rate\n",
    "    step = 0\n",
    "    # Calculate the cost and consumption over the full forecast period\n",
    "    for i in range(len(forecast_filter)):\n",
    "        # The rates are updated on the 1st of April and October. When the date of today's forecast is equal to the next update \n",
    "        # date , we increase the step variable to use the rate for the appropriate date.\n",
    "        if step != len(rate_filter) - 1:\n",
    "            if (forecast_filter.loc[forecast_filter.index[i],'date'] >= rate_filter.loc[rate_filter.index[step+1],'date']):\n",
    "                step += 1        \n",
    "        # Total cost is the sum of all the daily costs, calculated by multiplying the forecast for a day with the rate for that day in p\n",
    "        TC += forecast_filter.loc[forecast_filter.index[i],'kwh'] * rate_filter.loc[rate_filter.index[step],'rate_p_per_kwh']\n",
    "    # Rounded tot 2 decimals and converted to pounds\n",
    "    #print(TEC,TC)\n",
    "    TEC = np.sum(forecast_filter.loc[:,'kwh'])\n",
    "    TC = float('{:.2f}'.format(TC / 100))\n",
    "    #print(TC,round(TEC))\n",
    "    # The function output is a DataFrame with proper column names.\n",
    "    return pd.DataFrame([[meter_id,round(TEC),TC]],columns=('meter_id','total_esimated_consumption','total_cost')) "
   ]
  },
  {
   "cell_type": "code",
   "execution_count": null,
   "id": "f3373c89",
   "metadata": {},
   "outputs": [],
   "source": []
  },
  {
   "cell_type": "code",
   "execution_count": null,
   "id": "0cd0f73b",
   "metadata": {},
   "outputs": [],
   "source": [
    "# 2)\n",
    "# Function to generate a random meter list\n",
    "\n",
    "def gen_meter_list(N):\n",
    "\n",
    "    new_meter_list = pd.DataFrame(columns=('meter_id','aq_kwh','exit_zone'))\n",
    "    zones = list(set(rate_table.loc[:,'exit_zone'])) # look for unique exit zone names\n",
    "    #print(zones)\n",
    "    for n in range(N):\n",
    "        meter_id = ''\n",
    "        aq_kwh = 0\n",
    "        exit_zone = ''\n",
    "        for i in range(8):  # Generate a random 8 digit ID starting with a non 0 digit\n",
    "            if i == 0:\n",
    "                meter_id = meter_id + (str(random.randint(1, 9)))\n",
    "            else:\n",
    "                meter_id = meter_id + (str(random.randint(0, 9)))\n",
    "        \n",
    "        aq_kwh = random.randint(0, 1000000)  # Generate a random int between 0 and 1 000 000 to be used as AQ\n",
    "        exit_zone = random.choice(zones)    # Randomly assign the exit zone \n",
    "        new_meter_list.loc[n] = [meter_id,aq_kwh,exit_zone] # Add a generated row to a dataframe\n",
    "        #print(new_meter_list)\n",
    "        \n",
    "    return new_meter_list"
   ]
  },
  {
   "cell_type": "code",
   "execution_count": null,
   "id": "78809eeb",
   "metadata": {},
   "outputs": [],
   "source": []
  },
  {
   "cell_type": "code",
   "execution_count": null,
   "id": "2271c8c5",
   "metadata": {},
   "outputs": [],
   "source": [
    "# 3)\n",
    "# Function to generate mock consumption data given a meter_list, start date and duration.\n",
    "def gen_forecast_table(meter_input,start_date,duration):\n",
    "    new_forecast_table = pd.DataFrame(columns=('meter_id','date','kwh'))\n",
    "    for i in range(len(meter_input)):\n",
    "        for j in range(duration):\n",
    "            new_forecast_table.loc[j + i*duration] = [meter_input.loc[meter_input.index[i],'meter_id'],\n",
    "                                                       pd.Timestamp(start_date + datetime.timedelta(days=j)),\n",
    "                                                       random.uniform(forecast_table['kwh'].min(), forecast_table['kwh'].max())]\n",
    "    return new_forecast_table"
   ]
  },
  {
   "cell_type": "code",
   "execution_count": null,
   "id": "e5dffe8a",
   "metadata": {},
   "outputs": [],
   "source": []
  },
  {
   "cell_type": "code",
   "execution_count": null,
   "id": "89829759",
   "metadata": {},
   "outputs": [],
   "source": [
    "tick = time.time()\n",
    "out = pd.DataFrame(columns=('meter_id','total_esimated_consumption','total_cost'))\n",
    "for x in range(len(meter_list)):\n",
    "    out = out.append(calc_cost(meter_list.loc[meter_list.index[x],:],forecast_table))\n",
    "print(out)\n",
    "tock = time.time()  \n",
    "print('elapsed time for processing original data: {}'.format(tock - tick)) "
   ]
  },
  {
   "cell_type": "code",
   "execution_count": null,
   "id": "1b74cf2b",
   "metadata": {},
   "outputs": [],
   "source": []
  },
  {
   "cell_type": "code",
   "execution_count": null,
   "id": "a5e6184f",
   "metadata": {},
   "outputs": [],
   "source": [
    "tick = time.time()\n",
    "out = pd.DataFrame(columns=('meter_id','total_esimated_consumption','total_cost'))\n",
    "new_meter_list = gen_meter_list(5).astype({'meter_id' : 'int64', 'aq_kwh' : 'int64'})\n",
    "new_forecast_table = gen_forecast_table(new_meter_list, datetime.datetime(2020, 6, 2), 50)\n",
    "tock = time.time()  \n",
    "print('elapsed time for generating small mock dataset: {}'.format(tock - tick)) "
   ]
  },
  {
   "cell_type": "code",
   "execution_count": null,
   "id": "a1a5e22c",
   "metadata": {},
   "outputs": [],
   "source": []
  },
  {
   "cell_type": "code",
   "execution_count": null,
   "id": "e42b1a0f",
   "metadata": {},
   "outputs": [],
   "source": [
    "tick = time.time()\n",
    "for x in range(len(new_meter_list)):\n",
    "    out = out.append(calc_cost(new_meter_list.loc[new_meter_list.index[x],:],new_forecast_table))\n",
    "#print(out)   \n",
    "tock = time.time()  \n",
    "print('elapsed time for processing small dataset: {}'.format(tock - tick)) "
   ]
  },
  {
   "cell_type": "code",
   "execution_count": null,
   "id": "912db8f5",
   "metadata": {},
   "outputs": [],
   "source": []
  }
 ],
 "metadata": {
  "kernelspec": {
   "display_name": "Python 3 (ipykernel)",
   "language": "python",
   "name": "python3"
  },
  "language_info": {
   "codemirror_mode": {
    "name": "ipython",
    "version": 3
   },
   "file_extension": ".py",
   "mimetype": "text/x-python",
   "name": "python",
   "nbconvert_exporter": "python",
   "pygments_lexer": "ipython3",
   "version": "3.9.7"
  }
 },
 "nbformat": 4,
 "nbformat_minor": 5
}
