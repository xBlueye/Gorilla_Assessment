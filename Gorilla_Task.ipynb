{
 "cells": [
  {
   "cell_type": "markdown",
   "id": "54405328",
   "metadata": {},
   "source": []
  },
  {
   "cell_type": "code",
   "execution_count": 1,
   "id": "69a37472",
   "metadata": {
    "scrolled": true
   },
   "outputs": [
    {
     "name": "stdout",
     "output_type": "stream",
     "text": [
      "Requirement already satisfied: pandas in c:\\users\\akapi\\anaconda3\\lib\\site-packages (1.3.4)\n",
      "Requirement already satisfied: pytz>=2017.3 in c:\\users\\akapi\\anaconda3\\lib\\site-packages (from pandas) (2021.3)\n",
      "Requirement already satisfied: numpy>=1.17.3 in c:\\users\\akapi\\anaconda3\\lib\\site-packages (from pandas) (1.20.3)\n",
      "Requirement already satisfied: python-dateutil>=2.7.3 in c:\\users\\akapi\\anaconda3\\lib\\site-packages (from pandas) (2.8.2)\n",
      "Requirement already satisfied: six>=1.5 in c:\\users\\akapi\\anaconda3\\lib\\site-packages (from python-dateutil>=2.7.3->pandas) (1.16.0)\n",
      "Requirement already satisfied: numpy in c:\\users\\akapi\\anaconda3\\lib\\site-packages (1.20.3)\n"
     ]
    }
   ],
   "source": [
    "! pip install pandas\n",
    "! pip install numpy"
   ]
  },
  {
   "cell_type": "code",
   "execution_count": null,
   "id": "202cff9f",
   "metadata": {},
   "outputs": [],
   "source": []
  },
  {
   "cell_type": "code",
   "execution_count": 1,
   "id": "a421cf2d",
   "metadata": {},
   "outputs": [],
   "source": [
    "import pandas as pd\n",
    "import numpy as np\n",
    "import random\n",
    "import datetime\n",
    "import time"
   ]
  },
  {
   "cell_type": "code",
   "execution_count": null,
   "id": "0f3ec492",
   "metadata": {},
   "outputs": [],
   "source": []
  },
  {
   "cell_type": "code",
   "execution_count": 3,
   "id": "13e21ff6",
   "metadata": {},
   "outputs": [],
   "source": [
    "# Load the datasheets\n",
    "meter_list = pd.read_excel('.\\\\gorilla_test_data.xlsx',sheet_name='meter_list')\n",
    "forecast_table = pd.read_excel('.\\\\gorilla_test_data.xlsx',sheet_name='forecast_table')\n",
    "rate_table = pd.read_excel('.\\\\gorilla_test_data.xlsx',sheet_name='rate_table')"
   ]
  },
  {
   "cell_type": "code",
   "execution_count": null,
   "id": "6426eee0",
   "metadata": {},
   "outputs": [],
   "source": []
  },
  {
   "cell_type": "code",
   "execution_count": 4,
   "id": "9b0423d8",
   "metadata": {},
   "outputs": [],
   "source": [
    "# 1) & 4)\n",
    "# Function for the Total Estimated Consumption and Total Cost\n",
    "def calc_cost(meter_input,forecast_input):\n",
    "    \n",
    "    # Variable initialization\n",
    "    meter_id = meter_input['meter_id']\n",
    "    aq_kwh = meter_input['aq_kwh']\n",
    "    exit_zone = meter_input['exit_zone']\n",
    "    TEC = 0\n",
    "    TC = 0\n",
    "    forecast_filter = pd.DataFrame()\n",
    "    rate_filter = pd.DataFrame()\n",
    "    \n",
    "    # Choose the right AQ band\n",
    "    if aq_kwh < 73200:\n",
    "        rate_filter = rate_filter.append(rate_table[(rate_table['aq_min_kwh'] == 0) & (rate_table['exit_zone'] == exit_zone)])\n",
    "    elif aq_kwh < 732000:\n",
    "        rate_filter = rate_filter.append(rate_table[(rate_table['aq_min_kwh'] == 73200) & (rate_table['exit_zone'] == exit_zone)])\n",
    "    else:\n",
    "        rate_filter = rate_filter.append(rate_table[(rate_table['aq_min_kwh'] == 732000) & (rate_table['exit_zone'] == exit_zone)])\n",
    "        \n",
    "    # We only need 1 meter ID so there is no need to check the other ones    \n",
    "    forecast_filter = forecast_filter.append(forecast_input[(forecast_input['meter_id'] == meter_id)])\n",
    "    \n",
    "    #print(forecast_filter) \n",
    "    #print(rate_filter) \n",
    "    \n",
    "    # A step variable used to pick the right rate\n",
    "    step = 0\n",
    "    # Calculate the cost and consumption over the full forecast period\n",
    "    for i in range(len(forecast_filter)):\n",
    "        # The rates are updated on the 1st of April and October. When the date of today's forecast is equal to the next update \n",
    "        # date , we increase the step variable to use the rate for the appropriate date.\n",
    "        if step != len(rate_filter) - 1:\n",
    "            if (forecast_filter.loc[forecast_filter.index[i],'date'] >= rate_filter.loc[rate_filter.index[step+1],'date']):\n",
    "                step += 1        \n",
    "        # Total cost is the sum of all the daily costs, calculated by multiplying the forecast for a day with the rate for that day in p\n",
    "        TC += np.multiply(forecast_filter.loc[forecast_filter.index[i],'kwh'] , rate_filter.loc[rate_filter.index[step],'rate_p_per_kwh'])\n",
    "    # Rounded tot 2 decimals and converted to pounds\n",
    "    TEC = np.sum(forecast_filter.loc[:,'kwh'])\n",
    "    TC = float('{:.2f}'.format(TC / 100))\n",
    "    #print(TC,round(TEC))\n",
    "    # The function output is a DataFrame with proper column names.\n",
    "    return pd.DataFrame([[meter_id,round(TEC),TC]],columns=('meter_id','total_esimated_consumption','total_cost')) "
   ]
  },
  {
   "cell_type": "code",
   "execution_count": null,
   "id": "9ba2c037",
   "metadata": {},
   "outputs": [],
   "source": []
  },
  {
   "cell_type": "code",
   "execution_count": 5,
   "id": "1b364423",
   "metadata": {},
   "outputs": [],
   "source": [
    "# 2)\n",
    "# Function to generate a random meter list\n",
    "\n",
    "def gen_meter_list(N):\n",
    "\n",
    "    new_meter_list = pd.DataFrame(columns=('meter_id','aq_kwh','exit_zone'))\n",
    "    zones = list(set(rate_table.loc[:,'exit_zone'])) # look for unique exit zone names\n",
    "    #print(zones)\n",
    "    for n in range(N):\n",
    "        meter_id = ''\n",
    "        aq_kwh = 0\n",
    "        exit_zone = ''\n",
    "        for i in range(8):  # Generate a random 8 digit ID starting with a non 0 digit\n",
    "            if i == 0:\n",
    "                meter_id = meter_id + (str(random.randint(1, 9)))\n",
    "            else:\n",
    "                meter_id = meter_id + (str(random.randint(0, 9)))\n",
    "        \n",
    "        aq_kwh = random.randint(0, 1000000)  # Generate a random int between 0 and 1 000 000 to be used as AQ\n",
    "        exit_zone = random.choice(zones)    # Randomly assign the exit zone \n",
    "        new_meter_list.loc[n] = [meter_id,aq_kwh,exit_zone] # Add a generated row to a dataframe\n",
    "        #print(new_meter_list)\n",
    "        \n",
    "    return new_meter_list"
   ]
  },
  {
   "cell_type": "code",
   "execution_count": null,
   "id": "b9df0b58",
   "metadata": {},
   "outputs": [],
   "source": []
  },
  {
   "cell_type": "code",
   "execution_count": 6,
   "id": "835b5122",
   "metadata": {},
   "outputs": [],
   "source": [
    "# 3)\n",
    "# Function to generate mock consumption data given a meter_list, start date and duration.\n",
    "def gen_forecast_table(meter_input,start_date,duration):\n",
    "    new_forecast_table = pd.DataFrame(columns=('meter_id','date','kwh'))\n",
    "    for i in range(len(meter_input)):\n",
    "        for j in range(duration):\n",
    "            new_forecast_table.loc[j + i*duration] = [meter_input.loc[meter_input.index[i],'meter_id'],\n",
    "                                                       (start_date + datetime.timedelta(days=j)),\n",
    "                                                       random.uniform(forecast_table['kwh'].min(), forecast_table['kwh'].max())]\n",
    "    return new_forecast_table"
   ]
  },
  {
   "cell_type": "code",
   "execution_count": null,
   "id": "addeefbc",
   "metadata": {},
   "outputs": [],
   "source": []
  },
  {
   "cell_type": "code",
   "execution_count": 7,
   "id": "d1aea0f0",
   "metadata": {},
   "outputs": [
    {
     "name": "stdout",
     "output_type": "stream",
     "text": [
      "   meter_id total_esimated_consumption  total_cost\n",
      "0  14676236                      28978      100.15\n",
      "0  34509937                      78324      275.49\n",
      "0  50264822                     265667      731.24\n",
      "0  88357331                     484399     1433.16\n",
      "elapsed time for processing original data: 0.17490029335021973\n"
     ]
    }
   ],
   "source": [
    "tick = time.time() # start timer\n",
    "out = pd.DataFrame(columns=('meter_id','total_esimated_consumption','total_cost'))\n",
    "for x in range(len(meter_list)): # get consumption and cost for each meter\n",
    "    out = out.append(calc_cost(meter_list.loc[meter_list.index[x],:],forecast_table),ignore_index= True)\n",
    "print(out) # print the resulting table\n",
    "tock = time.time() # end timer\n",
    "print('elapsed time for processing original data: {}'.format(tock - tick)) "
   ]
  },
  {
   "cell_type": "code",
   "execution_count": null,
   "id": "241fa5c9",
   "metadata": {},
   "outputs": [],
   "source": []
  },
  {
   "cell_type": "code",
   "execution_count": 12,
   "id": "0718f491",
   "metadata": {},
   "outputs": [
    {
     "name": "stdout",
     "output_type": "stream",
     "text": [
      "elapsed time for generating mock dataset: 0.47s\n"
     ]
    }
   ],
   "source": [
    "tick = time.time()\n",
    "meters = 5 # how many meters should be generated\n",
    "duration = 50 #how many days per meter should be in a forecast\n",
    "# generate new lists\n",
    "out = pd.DataFrame(columns=('meter_id','total_esimated_consumption','total_cost'))\n",
    "new_meter_list = gen_meter_list(5).astype({'meter_id' : 'int64', 'aq_kwh' : 'int64'})\n",
    "new_forecast_table = gen_forecast_table(new_meter_list, datetime.datetime(2020, 6, 2), duration)\n",
    "tock = time.time()  \n",
    "print('elapsed time for generating mock dataset: {:.2f}s'.format(tock - tick)) "
   ]
  },
  {
   "cell_type": "code",
   "execution_count": null,
   "id": "9cbcb263",
   "metadata": {},
   "outputs": [],
   "source": []
  },
  {
   "cell_type": "code",
   "execution_count": 13,
   "id": "09279967",
   "metadata": {},
   "outputs": [
    {
     "name": "stdout",
     "output_type": "stream",
     "text": [
      "elapsed time for processing dataset: 0.03s\n"
     ]
    }
   ],
   "source": [
    "tick = time.time()\n",
    "for x in range(len(new_meter_list)):\n",
    "    out = out.append(calc_cost(new_meter_list.loc[new_meter_list.index[x],:],new_forecast_table),ignore_index= True)\n",
    "print(out)   \n",
    "tock = time.time()  \n",
    "print('elapsed time for processing dataset: {:.2f}s'.format(tock - tick)) "
   ]
  },
  {
   "cell_type": "markdown",
   "id": "08a96c04",
   "metadata": {},
   "source": [
    "5) Conclusion and obersvations\n",
    "\n",
    "The program is working as intended. Both meter list and forecast table generators result in valid dataframes, although they are a bit slow. This is most likely the result of the for loops in the gen_forecast_table, I unfortunatly couldn't find a way to vectorize all dataframe operations. The calculation function performs better with fewer meter lists that have a longer duration which means that calculating the cost and consumption for 5 meter lists with a forecast duration of 500 days is faster than 500 meter lists with 5 day forecast even though both cases have 2500 records in the forecast table. Again the for loops are most likely to blame. "
   ]
  }
 ],
 "metadata": {
  "kernelspec": {
   "display_name": "Python 3 (ipykernel)",
   "language": "python",
   "name": "python3"
  },
  "language_info": {
   "codemirror_mode": {
    "name": "ipython",
    "version": 3
   },
   "file_extension": ".py",
   "mimetype": "text/x-python",
   "name": "python",
   "nbconvert_exporter": "python",
   "pygments_lexer": "ipython3",
   "version": "3.9.7"
  }
 },
 "nbformat": 4,
 "nbformat_minor": 5
}
